{
 "cells": [
  {
   "cell_type": "markdown",
   "id": "39a1e949",
   "metadata": {},
   "source": [
    "# Pre-trained Models: Resnet50 & VGG16"
   ]
  },
  {
   "cell_type": "markdown",
   "id": "5571f1de",
   "metadata": {},
   "source": [
    "## Introduction:"
   ]
  },
  {
   "cell_type": "markdown",
   "id": "87fa2701",
   "metadata": {},
   "source": [
    "There are many pretrained models(Xception, InceptionV3, ResNet50, VGG16, VGG19, MobileNet). In this notebook, I will use 2 pre-trained models: Resnet50 and VGG16 to evaluate face emotions.\n",
    "\n",
    "\n",
    "#### VGG-16 (16 layers)\n",
    "\n",
    "  VGG16 is a convolutional neural network model proposed by K. Simonyan and A. Zisserman from the University of Oxford in the paper “Very Deep Convolutional Networks for Large-Scale Image Recognition”. The model achieves 92.7% top-5 test accuracy in ImageNet, which is a dataset of over 14 million images belonging to 1000 classes. It was one of the famous models submitted to ILSVRC-2014. VGG16 was trained for weeks and was using NVIDIA Titan Black GPUs.\n",
    "  The input to the cov1 layer is of a fixed size 224 x 224 RGB image. The image is passed through a stack of convolutional layers, where the filters were used with a very small receptive field: 3×3. Spatial pooling is carried out by five max-pooling layers, which follow some of the Conv. layers (not all the conv. layers are followed by max-pooling). Max-pooling is performed over a 2×2 pixel window with stride 2. All hidden layers are equipped with the rectification (ReLU) non-linearity. \n",
    "  \n",
    "  \n",
    "#### Resnet50\n",
    "\n",
    " The ResNet is also called as Residual network. It has 48 Convolution layers along with 1 MaxPool and 1 Average Pool layer. Because of the framework that ResNets presented it was made possible to train ultra deep neural networks, network can contain hundreds or thousands of layers and still achieve great performance. The ResNet50 uses the concept of short cut or skipping in the convolutional neural network to carry out the task. ResNet50 uses only 98MB of disk space and accuracy varies between 75 percent to 92 percent for the ImageNet dataset. \n",
    " \n",
    "  \n",
    "***layers***:\n",
    "- Layers that come earlier in the model extract local, highly generic feature maps (such as visual edges, colors, and textures), while layers higher-up extract more abstract concepts (such as \"cat ear\" or \"dog eye\"). So if the new dataset differs a lot from the dataset that the original model was trained on, it is better off using only the first few layers of the model to do feature extraction, rather than using the entire convolutional base."
   ]
  },
  {
   "cell_type": "markdown",
   "id": "c45625f3",
   "metadata": {},
   "source": [
    "## Links to this notebook:"
   ]
  },
  {
   "cell_type": "markdown",
   "id": "80ff0c10",
   "metadata": {},
   "source": [
    "* [Imports](#1.Imports)\n",
    "* [Preprocessing](#2.Preprocessing)\n",
    "* [Resnet50](#3.Resnet50)\n",
    "* [VGG16](#4.VGG16)\n",
    "* [Possible Fine-tuning](#5.Fine-tuning)\n",
    "* [Conclusion](#6.Conclusion)\n",
    "* [Referrences](#7.Referrences)"
   ]
  },
  {
   "cell_type": "code",
   "execution_count": null,
   "id": "09b231f9",
   "metadata": {},
   "outputs": [],
   "source": [
    "# You might run this link if you wish.\n",
    "\n",
    "# By default tensorflow takes %95 of memory using this code we will tell to use only 1/4\n",
    "# It is useful if we need to run several models at the same time\n",
    "\n",
    "# https://qastack.ru/programming/34199233/how-to-prevent-tensorflow-from-allocating-the-totality-of-a-gpu-memory\n",
    "# https://medium.com/@harikrishnanrajeev/gpu-tips-and-tricks-16e95bfd726f\n",
    "\n",
    "# from tensorflow.compat.v1 import ConfigProto\n",
    "# from tensorflow.compat.v1 import InteractiveSession\n",
    "\n",
    "# config = ConfigProto()\n",
    "# config.gpu_options.per_process_gpu_memory_fraction = 0.333\n",
    "# session = InteractiveSession(config=config)"
   ]
  },
  {
   "cell_type": "markdown",
   "id": "feb1b1df",
   "metadata": {},
   "source": [
    "## 1.Imports"
   ]
  },
  {
   "cell_type": "code",
   "execution_count": 35,
   "id": "56d508f8",
   "metadata": {},
   "outputs": [],
   "source": [
    "import pandas as pd\n",
    "import numpy as np\n",
    "import matplotlib.pyplot as plt\n",
    "import seaborn as sns\n",
    "\n",
    "from sklearn.model_selection import train_test_split\n",
    "\n",
    "from tensorflow.keras.models import Sequential, Model\n",
    "from tensorflow.keras.layers import Dense,Dropout,Flatten,Conv2D,MaxPool2D, Input, BatchNormalization\n",
    "from tensorflow.keras.utils import to_categorical\n",
    "from tensorflow.keras.preprocessing.image import ImageDataGenerator\n",
    "from tensorflow.keras.optimizers import Adam\n",
    "\n",
    "from tensorflow.keras.applications import ResNet50\n",
    "\n",
    "from keras.applications.vgg16 import VGG16\n",
    "from keras import models\n",
    "from keras import layers"
   ]
  },
  {
   "cell_type": "code",
   "execution_count": 2,
   "id": "7a830b41",
   "metadata": {},
   "outputs": [],
   "source": [
    "# Load the df's\n",
    "df = pd.read_csv('./data/train.csv')\n",
    "#test = pd.read_csv('./data/test.csv')"
   ]
  },
  {
   "cell_type": "code",
   "execution_count": 3,
   "id": "86ae1fe4",
   "metadata": {},
   "outputs": [
    {
     "data": {
      "text/html": [
       "<div>\n",
       "<style scoped>\n",
       "    .dataframe tbody tr th:only-of-type {\n",
       "        vertical-align: middle;\n",
       "    }\n",
       "\n",
       "    .dataframe tbody tr th {\n",
       "        vertical-align: top;\n",
       "    }\n",
       "\n",
       "    .dataframe thead th {\n",
       "        text-align: right;\n",
       "    }\n",
       "</style>\n",
       "<table border=\"1\" class=\"dataframe\">\n",
       "  <thead>\n",
       "    <tr style=\"text-align: right;\">\n",
       "      <th></th>\n",
       "      <th>emotion</th>\n",
       "      <th>pixels</th>\n",
       "    </tr>\n",
       "  </thead>\n",
       "  <tbody>\n",
       "    <tr>\n",
       "      <th>0</th>\n",
       "      <td>0</td>\n",
       "      <td>70 80 82 72 58 58 60 63 54 58 60 48 89 115 121...</td>\n",
       "    </tr>\n",
       "    <tr>\n",
       "      <th>1</th>\n",
       "      <td>0</td>\n",
       "      <td>151 150 147 155 148 133 111 140 170 174 182 15...</td>\n",
       "    </tr>\n",
       "    <tr>\n",
       "      <th>2</th>\n",
       "      <td>2</td>\n",
       "      <td>231 212 156 164 174 138 161 173 182 200 106 38...</td>\n",
       "    </tr>\n",
       "  </tbody>\n",
       "</table>\n",
       "</div>"
      ],
      "text/plain": [
       "   emotion                                             pixels\n",
       "0        0  70 80 82 72 58 58 60 63 54 58 60 48 89 115 121...\n",
       "1        0  151 150 147 155 148 133 111 140 170 174 182 15...\n",
       "2        2  231 212 156 164 174 138 161 173 182 200 106 38..."
      ]
     },
     "execution_count": 3,
     "metadata": {},
     "output_type": "execute_result"
    }
   ],
   "source": [
    "df.head(3)"
   ]
  },
  {
   "cell_type": "markdown",
   "id": "f8c06eed",
   "metadata": {},
   "source": [
    "## 2.Preprocessing"
   ]
  },
  {
   "cell_type": "code",
   "execution_count": 4,
   "id": "018e0575",
   "metadata": {},
   "outputs": [],
   "source": [
    "# function to convert 1d pixels to array\n",
    "def converter(pixels):\n",
    "    return np.array(pixels.split(),\"float64\")"
   ]
  },
  {
   "cell_type": "code",
   "execution_count": 5,
   "id": "bc90ed01",
   "metadata": {},
   "outputs": [],
   "source": [
    "# convert to array\n",
    "df['pixels'] = df['pixels'].apply(converter)\n",
    "# test['pixels'] = test['pixels'].apply(converter)"
   ]
  },
  {
   "cell_type": "code",
   "execution_count": 6,
   "id": "3504035f",
   "metadata": {},
   "outputs": [],
   "source": [
    "# Scale\n",
    "df['pixels']/=255.\n",
    "# test['pixels']/=255."
   ]
  },
  {
   "cell_type": "code",
   "execution_count": 7,
   "id": "24f63e3c",
   "metadata": {},
   "outputs": [
    {
     "data": {
      "text/plain": [
       "(28709, 48, 48)"
      ]
     },
     "execution_count": 7,
     "metadata": {},
     "output_type": "execute_result"
    }
   ],
   "source": [
    "# reshape \n",
    "image = np.reshape(list(df.pixels),(df.shape[0],48,48))\n",
    "# image_test = np.reshape(list(test.pixels),(test.shape[0],48,48))\n",
    "image.shape"
   ]
  },
  {
   "cell_type": "code",
   "execution_count": 8,
   "id": "acb6617d",
   "metadata": {},
   "outputs": [
    {
     "data": {
      "text/plain": [
       "(28709, 48, 48, 3)"
      ]
     },
     "execution_count": 8,
     "metadata": {},
     "output_type": "execute_result"
    }
   ],
   "source": [
    "# Since pretrained models were trained on color images, we need to transfer our greyimages to color too\n",
    "# We will stack them on each other using repeat function\n",
    "rgb = np.repeat(image[..., np.newaxis], 3, -1)\n",
    "rgb.shape"
   ]
  },
  {
   "cell_type": "code",
   "execution_count": 9,
   "id": "a5a3a860",
   "metadata": {},
   "outputs": [],
   "source": [
    "# identify X, y and train_test_split\n",
    "X = rgb   \n",
    "y = to_categorical(df['emotion'])\n",
    "\n",
    "X_train,X_val, y_train, y_val = train_test_split(X, y, random_state = 42)"
   ]
  },
  {
   "cell_type": "markdown",
   "id": "a474e0f7",
   "metadata": {},
   "source": [
    "## 3.Resnet50"
   ]
  },
  {
   "cell_type": "markdown",
   "id": "3be766a6",
   "metadata": {},
   "source": [
    "\n",
    "#### Tuning Resnet50:\n",
    "\n",
    "- ***include_top (True)***: Whether or not to include the output layers for the model. You don’t need these if you are fitting the model on your own problem.\n",
    "- ***weights (‘imagenet‘)***: What weights to load. You can specify None to not load pre-trained weights if you are interested in training the model yourself from scratch.\n",
    "- ***input_tensor (None)***: A new input layer if you intend to fit the model on new data of a different size.\n",
    "- ***input_shape (None)***: The size of images that the model is expected to take if you change the input layer.\n",
    "- ***pooling (None)***: The type of pooling to use when you are training a new set of output layers.\n",
    "- ***classes (1000)***: The number of classes (e.g. size of output vector) for the model."
   ]
  },
  {
   "cell_type": "code",
   "execution_count": 10,
   "id": "c1af83ae",
   "metadata": {},
   "outputs": [],
   "source": [
    "# Resnet was trained on 1000 objects\n",
    "# Need to download weights from imagenet\n",
    "\n",
    "resnet = ResNet50(weights=\"imagenet\", include_top=False, input_shape=(48,48,3))"
   ]
  },
  {
   "cell_type": "code",
   "execution_count": 11,
   "id": "591670d3",
   "metadata": {},
   "outputs": [],
   "source": [
    "# loop over all layers and weights in the base model and freeze them so they will *not* be updated during the training process\n",
    "for layer in resnet.layers:\n",
    "    layer.trainable = False"
   ]
  },
  {
   "cell_type": "code",
   "execution_count": 21,
   "id": "dd695b35",
   "metadata": {},
   "outputs": [],
   "source": [
    "# Set the model\n",
    "\n",
    "rn = models.Sequential()\n",
    "\n",
    "rn.add(resnet)\n",
    "\n",
    "rn.add(layers.Flatten())\n",
    "\n",
    "rn.add(Dense(512, activation = 'relu'))\n",
    "rn.add(Dropout(0.1))\n",
    "rn.add(Dense(7, activation = 'softmax'))"
   ]
  },
  {
   "cell_type": "code",
   "execution_count": 20,
   "id": "668c0836",
   "metadata": {},
   "outputs": [],
   "source": [
    "# 2nd way setting up the network\n",
    "\n",
    "# x = resnet.output\n",
    "# x = Flatten()(x)\n",
    "# x = Dropout(0.5)(x)\n",
    "# x = Dense(256, activation = 'relu')(x)\n",
    "# x = Dropout(0.4)(x)\n",
    "# output = Dense(7, activation= 'softmax')(x)\n",
    "\n",
    "# #Append both resnet and my Dense layers\n",
    "# rn = Model(inputs = resnet.input, outputs = output)"
   ]
  },
  {
   "cell_type": "code",
   "execution_count": 22,
   "id": "6443ab3a",
   "metadata": {},
   "outputs": [
    {
     "name": "stdout",
     "output_type": "stream",
     "text": [
      "Model: \"sequential_4\"\n",
      "_________________________________________________________________\n",
      "Layer (type)                 Output Shape              Param #   \n",
      "=================================================================\n",
      "resnet50 (Functional)        (None, 2, 2, 2048)        23587712  \n",
      "_________________________________________________________________\n",
      "flatten_4 (Flatten)          (None, 8192)              0         \n",
      "_________________________________________________________________\n",
      "dense_6 (Dense)              (None, 512)               4194816   \n",
      "_________________________________________________________________\n",
      "dropout_2 (Dropout)          (None, 512)               0         \n",
      "_________________________________________________________________\n",
      "dense_7 (Dense)              (None, 7)                 3591      \n",
      "=================================================================\n",
      "Total params: 27,786,119\n",
      "Trainable params: 4,198,407\n",
      "Non-trainable params: 23,587,712\n",
      "_________________________________________________________________\n"
     ]
    }
   ],
   "source": [
    "# Let's look at our model's construction\n",
    "rn.summary()"
   ]
  },
  {
   "cell_type": "code",
   "execution_count": 23,
   "id": "ea0897bf",
   "metadata": {},
   "outputs": [],
   "source": [
    "#Instantiate data augmentation\n",
    "\n",
    "resnet_train_datagen = ImageDataGenerator( rotation_range=40,\n",
    "                                           width_shift_range=0.2,\n",
    "                                           height_shift_range=0.2,\n",
    "                                           shear_range=0.2,\n",
    "                                           zoom_range=0.2,\n",
    "                                           horizontal_flip=True)\n",
    "\n",
    "resnet_test_datagen = ImageDataGenerator()"
   ]
  },
  {
   "cell_type": "code",
   "execution_count": 24,
   "id": "e453d6ee",
   "metadata": {},
   "outputs": [],
   "source": [
    "# Fit image generator on train and test\n",
    "\n",
    "train_generator = resnet_train_datagen.flow(X_train, y_train, batch_size=100)\n",
    "validation_generator = resnet_test_datagen.flow(X_val, y_val, batch_size=100)"
   ]
  },
  {
   "cell_type": "code",
   "execution_count": 25,
   "id": "a5d3dfdc",
   "metadata": {},
   "outputs": [],
   "source": [
    "# Compile the model\n",
    "\n",
    "# opt = Adam(lr=0.0001)\n",
    "rn.compile(loss='categorical_crossentropy', optimizer= 'Adam', metrics= ['accuracy'])"
   ]
  },
  {
   "cell_type": "code",
   "execution_count": 26,
   "id": "b46d3ac7",
   "metadata": {},
   "outputs": [],
   "source": [
    "# Fit resnet on data\n",
    "\n",
    "history = rn.fit(train_generator,\n",
    "                 steps_per_epoch= 215,\n",
    "                 epochs=15,\n",
    "                 validation_data=validation_generator,\n",
    "                 validation_steps=71,\n",
    "                 verbose = 0)"
   ]
  },
  {
   "cell_type": "code",
   "execution_count": 29,
   "id": "c1163d8d",
   "metadata": {},
   "outputs": [
    {
     "name": "stdout",
     "output_type": "stream",
     "text": [
      "225/225 [==============================] - 36s 113ms/step - loss: 1.7582 - accuracy: 0.2609\n"
     ]
    },
    {
     "data": {
      "text/plain": [
       "[1.7582076787948608, 0.2609362006187439]"
      ]
     },
     "execution_count": 29,
     "metadata": {},
     "output_type": "execute_result"
    }
   ],
   "source": [
    "# Evaluation\n",
    "\n",
    "rn.evaluate(X_val,y_val)"
   ]
  },
  {
   "cell_type": "code",
   "execution_count": 27,
   "id": "7e5ac4db",
   "metadata": {},
   "outputs": [
    {
     "data": {
      "image/png": "[encoded data removed]",
      "text/plain": [
       "<Figure size 432x288 with 1 Axes>"
      ]
     },
     "metadata": {
      "needs_background": "light"
     },
     "output_type": "display_data"
    }
   ],
   "source": [
    "# Let's look at loss and accuracy together\n",
    "\n",
    "for key in history.history.keys():\n",
    "    plt.plot(history.history[key], label=key)\n",
    "\n",
    "plt.title('Resnet50')\n",
    "plt.xlabel('Epochs ',fontsize=16)\n",
    "plt.ylabel('Accuracy and Loss',fontsize=16)\n",
    "plt.legend();"
   ]
  },
  {
   "cell_type": "markdown",
   "id": "c85c166c",
   "metadata": {},
   "source": [
    "## 4.VGG16"
   ]
  },
  {
   "cell_type": "code",
   "execution_count": 68,
   "id": "5d76a7d5",
   "metadata": {},
   "outputs": [],
   "source": [
    "# Instantiate VGG16\n",
    "\n",
    "vgg_conv_base = VGG16(weights='imagenet', include_top=False, input_shape=(48,48, 3))"
   ]
  },
  {
   "cell_type": "code",
   "execution_count": null,
   "id": "67669821",
   "metadata": {},
   "outputs": [],
   "source": [
    "# Freeze the vgg16 trainable layers:\n",
    "\n",
    "# vgg_conv_base.trainable = False or\n",
    "for layer in vgg_conv_base.layers:\n",
    "    layer.trainable = False"
   ]
  },
  {
   "cell_type": "code",
   "execution_count": null,
   "id": "0a8b34bd",
   "metadata": {},
   "outputs": [],
   "source": [
    "# look at the vgg_conv_base summary to check if layers are frozen\n",
    "# vgg_conv_base.summary()"
   ]
  },
  {
   "cell_type": "code",
   "execution_count": 61,
   "id": "4708d6fc",
   "metadata": {},
   "outputs": [],
   "source": [
    "# Instantiate the model with VGG as a base and add custom layers after Flatten()\n",
    "\n",
    "vgg = models.Sequential()\n",
    "vgg.add(vgg_conv_base)\n",
    "vgg.add(layers.Flatten())\n",
    "vgg.add(layers.Dense(256, activation='relu'))\n",
    "vgg.add(Dropout(0.2))\n",
    "vgg.add(Dense(7,activation='softmax'))"
   ]
  },
  {
   "cell_type": "code",
   "execution_count": 2,
   "id": "eb6447ee",
   "metadata": {},
   "outputs": [],
   "source": [
    "# Look at our model's structure\n",
    "# vgg.summary()"
   ]
  },
  {
   "cell_type": "code",
   "execution_count": 39,
   "id": "9b5602ec",
   "metadata": {},
   "outputs": [],
   "source": [
    "# Instantiate ImageDataGenerator\n",
    "\n",
    "train_datagen = ImageDataGenerator( rotation_range=40,\n",
    "                                    width_shift_range=0.2,\n",
    "                                    height_shift_range=0.2,\n",
    "                                    shear_range=0.2,\n",
    "                                    zoom_range=0.2,\n",
    "                                    horizontal_flip=True)\n",
    "\n",
    "test_datagen = ImageDataGenerator()"
   ]
  },
  {
   "cell_type": "code",
   "execution_count": 40,
   "id": "acf90348",
   "metadata": {},
   "outputs": [],
   "source": [
    "# Fit datagen to X and y\n",
    "\n",
    "train_generator = train_datagen.flow(X_train, y_train, batch_size=100)\n",
    "validation_generator = test_datagen.flow(X_val, y_val, batch_size=100)"
   ]
  },
  {
   "cell_type": "code",
   "execution_count": 41,
   "id": "b9311785",
   "metadata": {},
   "outputs": [],
   "source": [
    "# Compile the model\n",
    "\n",
    "vgg.compile(loss='categorical_crossentropy', optimizer= Adam(learning_rate=0.0001), metrics= ['accuracy'])"
   ]
  },
  {
   "cell_type": "code",
   "execution_count": 42,
   "id": "533fbdcd",
   "metadata": {},
   "outputs": [
    {
     "name": "stdout",
     "output_type": "stream",
     "text": [
      "Epoch 1/47\n",
      "215/215 [==============================] - 188s 837ms/step - loss: 1.8298 - accuracy: 0.2369 - val_loss: 1.7228 - val_accuracy: 0.2916\n",
      "Epoch 2/47\n",
      "215/215 [==============================] - 186s 860ms/step - loss: 1.7625 - accuracy: 0.2730 - val_loss: 1.6880 - val_accuracy: 0.3138\n",
      "Epoch 3/47\n",
      "215/215 [==============================] - 185s 856ms/step - loss: 1.7396 - accuracy: 0.2901 - val_loss: 1.6817 - val_accuracy: 0.3216\n",
      "Epoch 4/47\n",
      "215/215 [==============================] - 186s 861ms/step - loss: 1.7258 - accuracy: 0.3028 - val_loss: 1.6556 - val_accuracy: 0.3412\n",
      "Epoch 5/47\n",
      "215/215 [==============================] - 186s 861ms/step - loss: 1.7147 - accuracy: 0.3053 - val_loss: 1.6592 - val_accuracy: 0.3378\n",
      "Epoch 6/47\n",
      "215/215 [==============================] - 185s 859ms/step - loss: 1.7053 - accuracy: 0.3128 - val_loss: 1.6514 - val_accuracy: 0.3468\n",
      "Epoch 7/47\n",
      "215/215 [==============================] - 188s 871ms/step - loss: 1.6999 - accuracy: 0.3177 - val_loss: 1.6299 - val_accuracy: 0.3582\n",
      "Epoch 8/47\n",
      "215/215 [==============================] - 188s 869ms/step - loss: 1.6944 - accuracy: 0.3171 - val_loss: 1.6311 - val_accuracy: 0.3572\n",
      "Epoch 9/47\n",
      "215/215 [==============================] - 189s 878ms/step - loss: 1.6916 - accuracy: 0.3238 - val_loss: 1.6351 - val_accuracy: 0.3542\n",
      "Epoch 10/47\n",
      "215/215 [==============================] - 186s 864ms/step - loss: 1.6849 - accuracy: 0.3263 - val_loss: 1.6300 - val_accuracy: 0.3512\n",
      "Epoch 11/47\n",
      "215/215 [==============================] - 189s 874ms/step - loss: 1.6835 - accuracy: 0.3281 - val_loss: 1.6035 - val_accuracy: 0.3682\n",
      "Epoch 12/47\n",
      "215/215 [==============================] - 193s 894ms/step - loss: 1.6757 - accuracy: 0.3268 - val_loss: 1.6256 - val_accuracy: 0.3536\n",
      "Epoch 13/47\n",
      "215/215 [==============================] - 192s 891ms/step - loss: 1.6736 - accuracy: 0.3309 - val_loss: 1.6063 - val_accuracy: 0.3652\n",
      "Epoch 14/47\n",
      "215/215 [==============================] - 192s 889ms/step - loss: 1.6747 - accuracy: 0.3305 - val_loss: 1.6116 - val_accuracy: 0.3638\n",
      "Epoch 15/47\n",
      "215/215 [==============================] - 194s 898ms/step - loss: 1.6660 - accuracy: 0.3357 - val_loss: 1.6080 - val_accuracy: 0.3722\n",
      "Epoch 16/47\n",
      "215/215 [==============================] - 191s 883ms/step - loss: 1.6645 - accuracy: 0.3350 - val_loss: 1.6039 - val_accuracy: 0.3762\n",
      "Epoch 17/47\n",
      "215/215 [==============================] - 194s 899ms/step - loss: 1.6604 - accuracy: 0.3396 - val_loss: 1.6049 - val_accuracy: 0.3664\n",
      "Epoch 18/47\n",
      "215/215 [==============================] - 194s 901ms/step - loss: 1.6607 - accuracy: 0.3372 - val_loss: 1.6052 - val_accuracy: 0.3668\n",
      "Epoch 19/47\n",
      "215/215 [==============================] - 194s 897ms/step - loss: 1.6572 - accuracy: 0.3412 - val_loss: 1.5991 - val_accuracy: 0.3764\n",
      "Epoch 20/47\n",
      "215/215 [==============================] - 201s 933ms/step - loss: 1.6528 - accuracy: 0.3468 - val_loss: 1.6125 - val_accuracy: 0.3662\n",
      "Epoch 21/47\n",
      "215/215 [==============================] - 198s 914ms/step - loss: 1.6488 - accuracy: 0.3453 - val_loss: 1.5920 - val_accuracy: 0.3764\n",
      "Epoch 22/47\n",
      "215/215 [==============================] - 185s 859ms/step - loss: 1.6522 - accuracy: 0.3431 - val_loss: 1.6021 - val_accuracy: 0.3698\n",
      "Epoch 23/47\n",
      "215/215 [==============================] - 184s 848ms/step - loss: 1.6473 - accuracy: 0.3444 - val_loss: 1.5914 - val_accuracy: 0.3732\n",
      "Epoch 24/47\n",
      "215/215 [==============================] - 181s 839ms/step - loss: 1.6440 - accuracy: 0.3458 - val_loss: 1.5769 - val_accuracy: 0.3842\n",
      "Epoch 25/47\n",
      "215/215 [==============================] - 180s 831ms/step - loss: 1.6461 - accuracy: 0.3480 - val_loss: 1.5967 - val_accuracy: 0.3746\n",
      "Epoch 26/47\n",
      "215/215 [==============================] - 181s 836ms/step - loss: 1.6457 - accuracy: 0.3463 - val_loss: 1.6020 - val_accuracy: 0.3782\n",
      "Epoch 27/47\n",
      "215/215 [==============================] - 29784s 139s/step - loss: 1.6437 - accuracy: 0.3464 - val_loss: 1.5852 - val_accuracy: 0.3746\n",
      "Epoch 28/47\n",
      "215/215 [==============================] - 186s 862ms/step - loss: 1.6393 - accuracy: 0.3507 - val_loss: 1.5875 - val_accuracy: 0.3814\n",
      "Epoch 29/47\n",
      "215/215 [==============================] - 195s 903ms/step - loss: 1.6421 - accuracy: 0.3491 - val_loss: 1.5831 - val_accuracy: 0.3764\n",
      "Epoch 30/47\n",
      "215/215 [==============================] - 199s 924ms/step - loss: 1.6384 - accuracy: 0.3487 - val_loss: 1.5828 - val_accuracy: 0.3792\n",
      "Epoch 31/47\n",
      "215/215 [==============================] - 199s 921ms/step - loss: 1.6388 - accuracy: 0.3522 - val_loss: 1.5891 - val_accuracy: 0.3768\n",
      "Epoch 32/47\n",
      "215/215 [==============================] - 194s 900ms/step - loss: 1.6359 - accuracy: 0.3492 - val_loss: 1.5737 - val_accuracy: 0.3822\n",
      "Epoch 33/47\n",
      "215/215 [==============================] - 194s 901ms/step - loss: 1.6352 - accuracy: 0.3541 - val_loss: 1.5815 - val_accuracy: 0.3776\n",
      "Epoch 34/47\n",
      "215/215 [==============================] - 192s 891ms/step - loss: 1.6332 - accuracy: 0.3507 - val_loss: 1.5777 - val_accuracy: 0.3836\n",
      "Epoch 35/47\n",
      "215/215 [==============================] - 194s 899ms/step - loss: 1.6323 - accuracy: 0.3557 - val_loss: 1.5834 - val_accuracy: 0.3746\n",
      "Epoch 36/47\n",
      "215/215 [==============================] - 191s 885ms/step - loss: 1.6288 - accuracy: 0.3550 - val_loss: 1.5795 - val_accuracy: 0.3836\n",
      "Epoch 37/47\n",
      "215/215 [==============================] - 192s 889ms/step - loss: 1.6247 - accuracy: 0.3555 - val_loss: 1.5780 - val_accuracy: 0.3812\n",
      "Epoch 38/47\n",
      "215/215 [==============================] - 187s 869ms/step - loss: 1.6291 - accuracy: 0.3510 - val_loss: 1.5604 - val_accuracy: 0.3914\n",
      "Epoch 39/47\n",
      "215/215 [==============================] - 187s 867ms/step - loss: 1.6278 - accuracy: 0.3526 - val_loss: 1.5807 - val_accuracy: 0.3804\n",
      "Epoch 40/47\n",
      "215/215 [==============================] - 186s 863ms/step - loss: 1.6280 - accuracy: 0.3551 - val_loss: 1.5791 - val_accuracy: 0.3790\n",
      "Epoch 41/47\n",
      "215/215 [==============================] - 186s 863ms/step - loss: 1.6199 - accuracy: 0.3606 - val_loss: 1.5751 - val_accuracy: 0.3866\n",
      "Epoch 42/47\n",
      "215/215 [==============================] - 185s 858ms/step - loss: 1.6260 - accuracy: 0.3561 - val_loss: 1.5680 - val_accuracy: 0.3878\n",
      "Epoch 43/47\n",
      "215/215 [==============================] - 187s 865ms/step - loss: 1.6253 - accuracy: 0.3589 - val_loss: 1.5799 - val_accuracy: 0.3826\n",
      "Epoch 44/47\n",
      "215/215 [==============================] - 191s 884ms/step - loss: 1.6168 - accuracy: 0.3622 - val_loss: 1.5671 - val_accuracy: 0.3834\n",
      "Epoch 45/47\n",
      "215/215 [==============================] - 193s 897ms/step - loss: 1.6217 - accuracy: 0.3602 - val_loss: 1.5641 - val_accuracy: 0.3910\n",
      "Epoch 46/47\n",
      "215/215 [==============================] - 189s 876ms/step - loss: 1.6157 - accuracy: 0.3595 - val_loss: 1.5591 - val_accuracy: 0.3952\n",
      "Epoch 47/47\n",
      "215/215 [==============================] - 186s 860ms/step - loss: 1.6125 - accuracy: 0.3648 - val_loss: 1.5665 - val_accuracy: 0.3894\n"
     ]
    }
   ],
   "source": [
    "# Fit and train the model\n",
    "\n",
    "history1 = vgg.fit(train_generator,\n",
    "                   steps_per_epoch= 215,\n",
    "                   epochs=47,\n",
    "                   validation_data=validation_generator,\n",
    "                   validation_steps=50,\n",
    "                   verbose =1)"
   ]
  },
  {
   "cell_type": "code",
   "execution_count": 43,
   "id": "26123d37",
   "metadata": {},
   "outputs": [
    {
     "name": "stdout",
     "output_type": "stream",
     "text": [
      "225/225 [==============================] - 53s 190ms/step - loss: 1.5687 - accuracy: 0.3888\n"
     ]
    },
    {
     "data": {
      "text/plain": [
       "[1.5686523914337158, 0.38882696628570557]"
      ]
     },
     "execution_count": 43,
     "metadata": {},
     "output_type": "execute_result"
    }
   ],
   "source": [
    "# Evaluation\n",
    "\n",
    "vgg.evaluate(X_val,y_val)"
   ]
  },
  {
   "cell_type": "code",
   "execution_count": 44,
   "id": "31d4d9af",
   "metadata": {},
   "outputs": [
    {
     "data": {
      "image/png": "[encoded data removed]",
      "text/plain": [
       "<Figure size 432x288 with 1 Axes>"
      ]
     },
     "metadata": {
      "needs_background": "light"
     },
     "output_type": "display_data"
    }
   ],
   "source": [
    "# Let's look at loss and accuracy together\n",
    "\n",
    "for key in history1.history.keys():\n",
    "    plt.plot(history1.history[key], label=key)\n",
    "    \n",
    "plt.title('VGG16')\n",
    "plt.xlabel('Epochs ', fontsize=16)\n",
    "plt.ylabel('Accuracy and Loss', fontsize=16)\n",
    "plt.legend();"
   ]
  },
  {
   "cell_type": "markdown",
   "id": "791afe8e",
   "metadata": {},
   "source": [
    "## 5.Fine-tuning"
   ]
  },
  {
   "cell_type": "markdown",
   "id": "efaf2e35",
   "metadata": {},
   "source": [
    "***Fine-tuning*** is a process of unfreezing a few of the top layers of a frozen pre-trained model and jointly training both the newly added Dense layers and these top layers. It is also possible to add input layers to the pre-trained model as well."
   ]
  },
  {
   "cell_type": "markdown",
   "id": "50a5f366",
   "metadata": {},
   "source": [
    "#### Fine-tuning steps:\n",
    "\n",
    "- 1. Add your custom network on top of an already trained base network.\n",
    "- 2. Freeze the base network.\n",
    "- 3. Train the part you added.\n",
    "- 4. Unfreeze some layers in the base network.\n",
    "- 5. Jointly train both these layers and the part you added"
   ]
  },
  {
   "cell_type": "code",
   "execution_count": 80,
   "id": "63cb5d73",
   "metadata": {},
   "outputs": [
    {
     "name": "stdout",
     "output_type": "stream",
     "text": [
      "Model: \"vgg16\"\n",
      "_________________________________________________________________\n",
      "Layer (type)                 Output Shape              Param #   \n",
      "=================================================================\n",
      "input_7 (InputLayer)         [(None, 48, 48, 3)]       0         \n",
      "_________________________________________________________________\n",
      "block1_conv1 (Conv2D)        (None, 48, 48, 64)        1792      \n",
      "_________________________________________________________________\n",
      "block1_conv2 (Conv2D)        (None, 48, 48, 64)        36928     \n",
      "_________________________________________________________________\n",
      "block1_pool (MaxPooling2D)   (None, 24, 24, 64)        0         \n",
      "_________________________________________________________________\n",
      "block2_conv1 (Conv2D)        (None, 24, 24, 128)       73856     \n",
      "_________________________________________________________________\n",
      "block2_conv2 (Conv2D)        (None, 24, 24, 128)       147584    \n",
      "_________________________________________________________________\n",
      "block2_pool (MaxPooling2D)   (None, 12, 12, 128)       0         \n",
      "_________________________________________________________________\n",
      "block3_conv1 (Conv2D)        (None, 12, 12, 256)       295168    \n",
      "_________________________________________________________________\n",
      "block3_conv2 (Conv2D)        (None, 12, 12, 256)       590080    \n",
      "_________________________________________________________________\n",
      "block3_conv3 (Conv2D)        (None, 12, 12, 256)       590080    \n",
      "_________________________________________________________________\n",
      "block3_pool (MaxPooling2D)   (None, 6, 6, 256)         0         \n",
      "_________________________________________________________________\n",
      "block4_conv1 (Conv2D)        (None, 6, 6, 512)         1180160   \n",
      "_________________________________________________________________\n",
      "block4_conv2 (Conv2D)        (None, 6, 6, 512)         2359808   \n",
      "_________________________________________________________________\n",
      "block4_conv3 (Conv2D)        (None, 6, 6, 512)         2359808   \n",
      "_________________________________________________________________\n",
      "block4_pool (MaxPooling2D)   (None, 3, 3, 512)         0         \n",
      "_________________________________________________________________\n",
      "block5_conv1 (Conv2D)        (None, 3, 3, 512)         2359808   \n",
      "_________________________________________________________________\n",
      "block5_conv2 (Conv2D)        (None, 3, 3, 512)         2359808   \n",
      "_________________________________________________________________\n",
      "block5_conv3 (Conv2D)        (None, 3, 3, 512)         2359808   \n",
      "_________________________________________________________________\n",
      "block5_pool (MaxPooling2D)   (None, 1, 1, 512)         0         \n",
      "=================================================================\n",
      "Total params: 14,714,688\n",
      "Trainable params: 14,714,688\n",
      "Non-trainable params: 0\n",
      "_________________________________________________________________\n"
     ]
    }
   ],
   "source": [
    "# This is the summary of the VGG model. And, I will be unfreezing the block5_conv layers.\n",
    "\n",
    "base = VGG16(weights='imagenet', include_top=False, input_shape=(48,48, 3))\n",
    "\n",
    "# base.summary()"
   ]
  },
  {
   "cell_type": "code",
   "execution_count": 81,
   "id": "74f08892",
   "metadata": {},
   "outputs": [],
   "source": [
    "# Unfreezing top 2 layers\n",
    "\n",
    "set_trainable = False\n",
    "\n",
    "for layer in base.layers:\n",
    "    if layer.name == 'block5_conv2':\n",
    "        set_trainable = True\n",
    "    if set_trainable:\n",
    "        layer.trainable = True\n",
    "    else:\n",
    "        layer.trainable = False"
   ]
  },
  {
   "cell_type": "code",
   "execution_count": 82,
   "id": "f7dcaf92",
   "metadata": {},
   "outputs": [
    {
     "name": "stdout",
     "output_type": "stream",
     "text": [
      "Model: \"vgg16\"\n",
      "_________________________________________________________________\n",
      "Layer (type)                 Output Shape              Param #   \n",
      "=================================================================\n",
      "input_7 (InputLayer)         [(None, 48, 48, 3)]       0         \n",
      "_________________________________________________________________\n",
      "block1_conv1 (Conv2D)        (None, 48, 48, 64)        1792      \n",
      "_________________________________________________________________\n",
      "block1_conv2 (Conv2D)        (None, 48, 48, 64)        36928     \n",
      "_________________________________________________________________\n",
      "block1_pool (MaxPooling2D)   (None, 24, 24, 64)        0         \n",
      "_________________________________________________________________\n",
      "block2_conv1 (Conv2D)        (None, 24, 24, 128)       73856     \n",
      "_________________________________________________________________\n",
      "block2_conv2 (Conv2D)        (None, 24, 24, 128)       147584    \n",
      "_________________________________________________________________\n",
      "block2_pool (MaxPooling2D)   (None, 12, 12, 128)       0         \n",
      "_________________________________________________________________\n",
      "block3_conv1 (Conv2D)        (None, 12, 12, 256)       295168    \n",
      "_________________________________________________________________\n",
      "block3_conv2 (Conv2D)        (None, 12, 12, 256)       590080    \n",
      "_________________________________________________________________\n",
      "block3_conv3 (Conv2D)        (None, 12, 12, 256)       590080    \n",
      "_________________________________________________________________\n",
      "block3_pool (MaxPooling2D)   (None, 6, 6, 256)         0         \n",
      "_________________________________________________________________\n",
      "block4_conv1 (Conv2D)        (None, 6, 6, 512)         1180160   \n",
      "_________________________________________________________________\n",
      "block4_conv2 (Conv2D)        (None, 6, 6, 512)         2359808   \n",
      "_________________________________________________________________\n",
      "block4_conv3 (Conv2D)        (None, 6, 6, 512)         2359808   \n",
      "_________________________________________________________________\n",
      "block4_pool (MaxPooling2D)   (None, 3, 3, 512)         0         \n",
      "_________________________________________________________________\n",
      "block5_conv1 (Conv2D)        (None, 3, 3, 512)         2359808   \n",
      "_________________________________________________________________\n",
      "block5_conv2 (Conv2D)        (None, 3, 3, 512)         2359808   \n",
      "_________________________________________________________________\n",
      "block5_conv3 (Conv2D)        (None, 3, 3, 512)         2359808   \n",
      "_________________________________________________________________\n",
      "block5_pool (MaxPooling2D)   (None, 1, 1, 512)         0         \n",
      "=================================================================\n",
      "Total params: 14,714,688\n",
      "Trainable params: 4,719,616\n",
      "Non-trainable params: 9,995,072\n",
      "_________________________________________________________________\n"
     ]
    }
   ],
   "source": [
    "# base.summary()"
   ]
  },
  {
   "cell_type": "code",
   "execution_count": null,
   "id": "90533796",
   "metadata": {},
   "outputs": [],
   "source": [
    "# double check trainable weights\n",
    "#print('Total trainable weights:{}'.format(len(base.trainable_weights)))base.trainable_weights"
   ]
  },
  {
   "cell_type": "code",
   "execution_count": 83,
   "id": "707eb55a",
   "metadata": {},
   "outputs": [],
   "source": [
    "# Set the model\n",
    "\n",
    "vgg_ft = models.Sequential()\n",
    "vgg_ft.add(base)\n",
    "vgg_ft.add(layers.Flatten())\n",
    "vgg_ft.add(layers.Dense(256, activation='relu'))\n",
    "vgg_ft.add(Dropout(0.2))\n",
    "vgg_ft.add(Dense(7,activation='softmax'))"
   ]
  },
  {
   "cell_type": "code",
   "execution_count": 84,
   "id": "ddcff7ae",
   "metadata": {},
   "outputs": [
    {
     "name": "stdout",
     "output_type": "stream",
     "text": [
      "Epoch 1/25\n",
      "215/215 [==============================] - 481s 2s/step - loss: 1.8153 - accuracy: 0.2518 - val_loss: 1.6820 - val_accuracy: 0.3226\n",
      "Epoch 2/25\n",
      "215/215 [==============================] - 267s 1s/step - loss: 1.7160 - accuracy: 0.3105 - val_loss: 1.6195 - val_accuracy: 0.3642\n",
      "Epoch 3/25\n",
      "215/215 [==============================] - 259s 1s/step - loss: 1.6729 - accuracy: 0.3345 - val_loss: 1.5846 - val_accuracy: 0.3856\n",
      "Epoch 4/25\n",
      "215/215 [==============================] - 261s 1s/step - loss: 1.6558 - accuracy: 0.3381 - val_loss: 1.5587 - val_accuracy: 0.3922\n",
      "Epoch 5/25\n",
      "215/215 [==============================] - 262s 1s/step - loss: 1.6390 - accuracy: 0.3494 - val_loss: 1.5458 - val_accuracy: 0.3942\n",
      "Epoch 6/25\n",
      "215/215 [==============================] - 264s 1s/step - loss: 1.6232 - accuracy: 0.3609 - val_loss: 1.5293 - val_accuracy: 0.4056\n",
      "Epoch 7/25\n",
      "215/215 [==============================] - 263s 1s/step - loss: 1.6113 - accuracy: 0.3662 - val_loss: 1.5166 - val_accuracy: 0.4166\n",
      "Epoch 8/25\n",
      "215/215 [==============================] - 267s 1s/step - loss: 1.5937 - accuracy: 0.3718 - val_loss: 1.5248 - val_accuracy: 0.4062\n",
      "Epoch 9/25\n",
      "215/215 [==============================] - 266s 1s/step - loss: 1.5939 - accuracy: 0.3776 - val_loss: 1.5002 - val_accuracy: 0.4218\n",
      "Epoch 10/25\n",
      "215/215 [==============================] - 267s 1s/step - loss: 1.5843 - accuracy: 0.3817 - val_loss: 1.4988 - val_accuracy: 0.4268\n",
      "Epoch 11/25\n",
      "215/215 [==============================] - 270s 1s/step - loss: 1.5753 - accuracy: 0.3892 - val_loss: 1.4961 - val_accuracy: 0.4268\n",
      "Epoch 12/25\n",
      "215/215 [==============================] - 268s 1s/step - loss: 1.5647 - accuracy: 0.3911 - val_loss: 1.4640 - val_accuracy: 0.4438\n",
      "Epoch 13/25\n",
      "215/215 [==============================] - 267s 1s/step - loss: 1.5620 - accuracy: 0.3909 - val_loss: 1.4616 - val_accuracy: 0.4486\n",
      "Epoch 14/25\n",
      "215/215 [==============================] - 273s 1s/step - loss: 1.5551 - accuracy: 0.3925 - val_loss: 1.4753 - val_accuracy: 0.4394\n",
      "Epoch 15/25\n",
      "215/215 [==============================] - 263s 1s/step - loss: 1.5443 - accuracy: 0.3973 - val_loss: 1.4618 - val_accuracy: 0.4416\n",
      "Epoch 16/25\n",
      "215/215 [==============================] - 260s 1s/step - loss: 1.5463 - accuracy: 0.4011 - val_loss: 1.4492 - val_accuracy: 0.4444\n",
      "Epoch 17/25\n",
      "215/215 [==============================] - 265s 1s/step - loss: 1.5394 - accuracy: 0.3992 - val_loss: 1.4403 - val_accuracy: 0.4478\n",
      "Epoch 18/25\n",
      "215/215 [==============================] - 265s 1s/step - loss: 1.5343 - accuracy: 0.4044 - val_loss: 1.4341 - val_accuracy: 0.4546\n",
      "Epoch 19/25\n",
      "215/215 [==============================] - 266s 1s/step - loss: 1.5253 - accuracy: 0.4095 - val_loss: 1.4522 - val_accuracy: 0.4434\n",
      "Epoch 20/25\n",
      "215/215 [==============================] - 267s 1s/step - loss: 1.5209 - accuracy: 0.4131 - val_loss: 1.4354 - val_accuracy: 0.4522\n",
      "Epoch 21/25\n",
      "215/215 [==============================] - 266s 1s/step - loss: 1.5226 - accuracy: 0.4065 - val_loss: 1.4376 - val_accuracy: 0.4472\n",
      "Epoch 22/25\n",
      "215/215 [==============================] - 263s 1s/step - loss: 1.5167 - accuracy: 0.4135 - val_loss: 1.4324 - val_accuracy: 0.4606\n",
      "Epoch 23/25\n",
      "215/215 [==============================] - 264s 1s/step - loss: 1.5102 - accuracy: 0.4173 - val_loss: 1.4365 - val_accuracy: 0.4502\n",
      "Epoch 24/25\n",
      "215/215 [==============================] - 265s 1s/step - loss: 1.5014 - accuracy: 0.4216 - val_loss: 1.4019 - val_accuracy: 0.4604\n",
      "Epoch 25/25\n",
      "215/215 [==============================] - 269s 1s/step - loss: 1.5071 - accuracy: 0.4161 - val_loss: 1.4163 - val_accuracy: 0.4536\n"
     ]
    }
   ],
   "source": [
    "# Mr. Chollet recommends to lower the learning rate here to limit the magnitude of the modifications we make\n",
    "# to the representations of the 3 layers that are fine-tuned. Updates that are too large may harm these representations.\n",
    "\n",
    "# Train the model:\n",
    "\n",
    "vgg_ft.compile(loss='categorical_crossentropy', optimizer= Adam(learning_rate=0.00001), metrics= ['accuracy'])\n",
    "\n",
    "history3 = vgg_ft.fit(train_generator,\n",
    "                      steps_per_epoch= 215,\n",
    "                      epochs=25,\n",
    "                      validation_data=validation_generator,\n",
    "                      validation_steps=50,\n",
    "                      verbose =1)"
   ]
  },
  {
   "cell_type": "code",
   "execution_count": 89,
   "id": "0d1befe5",
   "metadata": {},
   "outputs": [
    {
     "name": "stdout",
     "output_type": "stream",
     "text": [
      "70/70 [==============================] - 27s 162ms/step - loss: 1.4091 - accuracy: 0.4688\n"
     ]
    },
    {
     "data": {
      "text/plain": [
       "[1.4091339111328125, 0.46875]"
      ]
     },
     "execution_count": 89,
     "metadata": {},
     "output_type": "execute_result"
    }
   ],
   "source": [
    "# # # Evaluate the model\n",
    "\n",
    "test_generator = test_datagen.flow(X_val, y_val)\n",
    "vgg_ft.evaluate(test_generator, steps=70)"
   ]
  },
  {
   "cell_type": "code",
   "execution_count": 88,
   "id": "96c89345",
   "metadata": {},
   "outputs": [
    {
     "data": {
      "image/png": "[encoded data removed]",
      "text/plain": [
       "<Figure size 432x288 with 1 Axes>"
      ]
     },
     "metadata": {
      "needs_background": "light"
     },
     "output_type": "display_data"
    }
   ],
   "source": [
    "# Let's look at loss and accuracy together\n",
    "\n",
    "for key in history2.history.keys():\n",
    "    plt.plot(history2.history[key], label=key)\n",
    "    \n",
    "plt.title('Fine-tuned VGG16')\n",
    "plt.xlabel('Epochs ', fontsize=16)\n",
    "plt.ylabel('Accuracy and Loss', fontsize=16)\n",
    "plt.legend();"
   ]
  },
  {
   "cell_type": "markdown",
   "id": "87656f86",
   "metadata": {},
   "source": [
    "## 6.Conclusion"
   ]
  },
  {
   "cell_type": "markdown",
   "id": "797f7b9a",
   "metadata": {},
   "source": [
    "- VGG seems to be a little bit faster and gives me a higher score than Resnet.\n",
    "- Resnet achieved very quickly an accuracy score of 0.26 and didn't improve after that\n",
    "- VGG improves slowly\n",
    "- More experiments could to be done with the fine-tuning of higher layers of each pre-trained model\n",
    "- Different pre-trained models could be used, such as VGGFace or other."
   ]
  },
  {
   "cell_type": "markdown",
   "id": "cb904885",
   "metadata": {},
   "source": [
    "## 7.Referrences"
   ]
  },
  {
   "cell_type": "markdown",
   "id": "0e472183",
   "metadata": {},
   "source": [
    "[Resnet50 architecture](https://iq.opengenus.org/resnet50-architecture/)\n",
    "\n",
    "[Facial Image Recognition Using Resnet50](https://www.sciencedirect.com/science/article/pii/S2666307421000073)\n",
    "\n",
    "[Resnet50 and Emotion Detection from youtube](https://www.youtube.com/watch?v=3Eequbg2_C0)\n",
    "\n",
    "[Scin Cancer and resnet50 Kaggle](https://www.kaggle.com/kocayinana/skin-cancer-recognition-with-resnet-50)\n",
    "\n",
    "[Resnet50 and fine-tuning](https://www.pyimagesearch.com/2020/04/27/fine-tuning-resnet-with-keras-tensorflow-and-deep-learning/)\n",
    "\n",
    "[Image Classifier using Resnet50 Deep Learning model](https://medium.com/@venkinarayanan/tutorial-image-classifier-using-resnet50-deep-learning-model-python-flask-in-azure-4c2b129af6d2)\n",
    "\n",
    "[All models](https://www.mathworks.com/help/deeplearning/ref/resnet50.html)"
   ]
  }
 ],
 "metadata": {
  "kernelspec": {
   "display_name": "Python 3",
   "language": "python",
   "name": "python3"
  },
  "language_info": {
   "codemirror_mode": {
    "name": "ipython",
    "version": 3
   },
   "file_extension": ".py",
   "mimetype": "text/x-python",
   "name": "python",
   "nbconvert_exporter": "python",
   "pygments_lexer": "ipython3",
   "version": "3.8.8"
  }
 },
 "nbformat": 4,
 "nbformat_minor": 5
}
